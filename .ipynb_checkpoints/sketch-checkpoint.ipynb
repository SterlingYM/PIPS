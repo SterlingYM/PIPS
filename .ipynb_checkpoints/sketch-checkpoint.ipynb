{
 "cells": [
  {
   "cell_type": "markdown",
   "metadata": {},
   "source": [
    "# PIPS 0.3.0 development plan"
   ]
  },
  {
   "cell_type": "markdown",
   "metadata": {
    "heading_collapsed": true
   },
   "source": [
    "# (0) Planning"
   ]
  },
  {
   "cell_type": "markdown",
   "metadata": {
    "heading_collapsed": true,
    "hidden": true
   },
   "source": [
    "## Goals: \n",
    "\n",
    "- clean up PIPS code\n",
    "- add new features\n",
    "- remove redundant functions\n",
    "- add flexibility (function models, etc.)"
   ]
  },
  {
   "cell_type": "markdown",
   "metadata": {
    "hidden": true
   },
   "source": [
    "## Todo:\n",
    "\n",
    "(last updated: Dec28)\n",
    "- redesign the structure of PIPS (classes, independent functions, etc.)\n",
    "- test new functions\n",
    "- add documentations\n",
    "- add test code/environments"
   ]
  },
  {
   "cell_type": "markdown",
   "metadata": {
    "heading_collapsed": true
   },
   "source": [
    "# (1) New PIPS structure\n",
    "\n",
    "concept:\n",
    "- easy to use (minimum operations can be done without calling/importing many extra classes/functions)\n",
    "- separated classes: individual analysis and statistical analysis\n",
    "- pre-implemented models: include as many models as possible"
   ]
  },
  {
   "cell_type": "markdown",
   "metadata": {
    "heading_collapsed": true,
    "hidden": true
   },
   "source": [
    "## ```photdata``` class"
   ]
  },
  {
   "cell_type": "markdown",
   "metadata": {
    "hidden": true
   },
   "source": [
    "takes in raw photometric data.\n",
    "\n",
    "- period detection\n",
    "    - main period detection\n",
    "    - secondary period detection\n",
    "    - false alarm rate estimation\n",
    "    - uncertainty estimation\n",
    "    - light curve fitting\n",
    "- periodogram calculation/output\n",
    "- light curve fitting\n",
    "- outlier data detection ('warning' function?)\n",
    "- stellar parameter estimations (model-dependent)"
   ]
  },
  {
   "cell_type": "code",
   "execution_count": null,
   "metadata": {},
   "outputs": [],
   "source": [
    "'''\n",
    "-----------\n",
    "PIPS 0.2.0\n",
    "---------------------------------------------\n",
    "Y. Murakami, A. Hoffman, J.Sunseri, A. Savel\n",
    "License: TBD\n",
    "---------------------------------------------\n",
    "Processes photometric data for variable stars.\n",
    "\n",
    "Classes:\n",
    "    photdata  --- data container for individual objects and analysis tools\n",
    "    visualize --- visualization tools for photdata and analysis results\n",
    "\n",
    "'''"
   ]
  },
  {
   "cell_type": "code",
   "execution_count": null,
   "metadata": {},
   "outputs": [],
   "source": [
    "class photdata:\n",
    "    '''\n",
    "    An object that contains photometric data and analysis results.\n",
    "    \n",
    "    variables:\n",
    "        x(float list): time data\n",
    "        y(float list): magnitude or flux data\n",
    "        yerr(float list): error or uncertainty in each y-data\n",
    "        period(float): detected period of the object. None by default.\n",
    "        period_err(float): estimated uncertainty in detected period\n",
    "        amplitude(float): peak-to-peak ydata range (not best-fit function)\n",
    "        amplitude_err(float): quadrature of yerr for y.max() and y.min()\n",
    "        label(str): label for the photdata object\n",
    "        epoch(float): time of maxima, estimated from the datapoint nearest to a maximum\n",
    "        meanmag: mean magnitude (assuming y-value is in mag)\n",
    "        p0,p1,p2,...,pN\n",
    "        A0,A1,A2,...,AN\n",
    "        \n",
    "        \n",
    "    functions (data preparation):\n",
    "        __init__(self,data,label='')\n",
    "        cut(self,xmin=None,xmax=None,ymin=None,ymax=None,yerr_min=None,yerr_max=None)\n",
    "    \n",
    "    functions (utilities):\n",
    "        Fourier(self,period,params)\n",
    "        \n",
    "    functions (data processing):\n",
    "        detect_period()\n",
    "        detect_period_multi(N,FAR_max=1e-3)\n",
    "        periodogram(p_min,p_max,method,plot=False)\n",
    "        amplitude_spectrum(p_min,p_max,N,method,plot=False)\n",
    "    '''\n",
    "    \n",
    "    def __init__(self,data,label=''):\n",
    "        '''\n",
    "        Takes in a list or numpy array of time-series data\n",
    "        e.g. ```[time,mag,mag_err]```\n",
    "        '''\n",
    "        self.x = data[0]\n",
    "        self.y = data[1]\n",
    "        self.yerr = data[2]\n",
    "        self.period = None\n",
    "        self.period_err = None\n",
    "        self.amplitude = None\n",
    "        self.amplitude_err = None\n",
    "        self.label = label\n",
    "        self.epoch = None\n",
    "        self.meanmag = None\n",
    "        \n",
    "    ##############\n",
    "    # utilities\n",
    "    ##############\n",
    "    def cut(self,xmin=None,xmax=None,ymin=None,ymax=None,yerr_min=None,yerr_max=None):\n",
    "        '''\n",
    "        Cuts data based on given min-max ranges.\n",
    "        Once this is run, new variables (cut_xmin, cut_xmax, etc.) are assigned\n",
    "        to save the cut conditions.\n",
    "        \n",
    "        The raw (original) data is stored in new variables x_raw,y_raw,yerr_raw.\n",
    "        If raw variables exist, this function assumes cuts are previously applied,\n",
    "        and raw variables will not be updated. \n",
    "        [i.e. cuts are always applied to the raw data]\n",
    "        reset_cuts() function resets cuts.\n",
    "        \n",
    "        returns nothing.\n",
    "        '''\n",
    "        self.cut_xmin = xmin\n",
    "        self.cut_xmax = xmax\n",
    "        self.cut_ymin = ymin\n",
    "        self.cut_ymax = ymax\n",
    "        self.cut_yerr_min = yerr_min\n",
    "        self.cut_yerr_max = yerr_max\n",
    "        self.x_raw = self.x\n",
    "        self.y_raw = self.y\n",
    "        self.yerr_raw = self.yerr\n",
    "        \n",
    "        # cut operations here\n",
    "        \n",
    "    def reset_cuts():\n",
    "        '''\n",
    "        resets cuts applied by cut() function.\n",
    "        '''\n",
    "        \n",
    "    def Fourier(self,period,params):\n",
    "        '''\n",
    "        A Fourier function (model) that calculates y-value \n",
    "        at each x-value for given period and parametrs.\n",
    "        '''\n",
    "        return y\n",
    "    \n",
    "    #################\n",
    "    # analysis tools\n",
    "    #################\n",
    "    def get_bestfit(period,model,xdata,ydata,yerr_data):\n",
    "        '''\n",
    "        returns best-fit y-values at given x\n",
    "        '''\n",
    "        \n",
    "    def get_bestfit_param():\n",
    "        '''\n",
    "        returns best-fit parameters for specified model\n",
    "        '''\n",
    "    \n",
    "    def get_chi2(period,model):\n",
    "        '''\n",
    "        returns chi square value for the best-fit function at given folding period.\n",
    "        '''\n",
    "        \n",
    "    def get_chi2_0(xdata=None,ydata=None):\n",
    "        '''\n",
    "        returns non-varying reference of chi2\n",
    "        '''\n",
    "        \n",
    "        \n",
    "    def periodogram(p_min,p_max,N,method,xdata=None,ydata=None,yerr_data=None,plot=False):\n",
    "        '''\n",
    "        Returns periodogram.\n",
    "        inputs:\n",
    "            p_min\n",
    "            p_max \n",
    "            N(int)\n",
    "            method(str) \n",
    "        optional inputs:\n",
    "            xdata(float list)\n",
    "            ydata(float list)\n",
    "            yerr_data(float list)\n",
    "            plot(bool)\n",
    "        returns: \n",
    "            period\n",
    "            power \n",
    "            (and axis if plot==True)\n",
    "        '''\n",
    "        if xdata==ydata==yerr_data==None:\n",
    "            xdata = self.x\n",
    "            ydata = self.y\n",
    "            yerr_data = self.yerr\n",
    "        period = np.linspace(p_min,p_max,N)\n",
    "        return period, power\n",
    "    \n",
    "    def detect_period():\n",
    "        '''\n",
    "        \n",
    "        '''\n",
    "        \n",
    "    def detect_period_multi(N,FAR_max=1e-3):\n",
    "        '''\n",
    "        multi-period detection. \n",
    "        Re-detects P1 and then proceeds to P2, P3, ... PN.\n",
    "        ```Pn=None``` if FAR for nth period exceeds given thershold.\n",
    "        '''\n",
    "        \n",
    "        \n",
    "    def amplitude_spectrum(p_min,p_max,N,method,plot=False):\n",
    "        '''\n",
    "        Returns the amplitude spectrum.\n",
    "        inputs: p_min, p_max, method, plot\n",
    "        returns: period, amplitude (and axis if plot==True)\n",
    "        '''\n",
    "        return period, amplitude"
   ]
  },
  {
   "cell_type": "markdown",
   "metadata": {
    "heading_collapsed": true,
    "hidden": true
   },
   "source": [
    "## ```stats``` class (name TBD)"
   ]
  },
  {
   "cell_type": "markdown",
   "metadata": {
    "hidden": true
   },
   "source": [
    "takes in a list of ```photdata``` objects\n",
    "\n",
    "- to_pandas ('summary' table)\n",
    "- automatic diagram creation\n",
    "    - period-color diagram\n",
    "    - period-amplitude diagram\n",
    "    - period-luminosity diagram\n",
    "    - color-magnitude diagram (HR diagram)\n",
    "- long-term analysis"
   ]
  },
  {
   "cell_type": "markdown",
   "metadata": {
    "hidden": true
   },
   "source": [
    "## (1-3) independent functions"
   ]
  },
  {
   "cell_type": "markdown",
   "metadata": {
    "hidden": true
   },
   "source": [
    "to be discussed"
   ]
  },
  {
   "cell_type": "code",
   "execution_count": null,
   "metadata": {
    "hidden": true
   },
   "outputs": [],
   "source": []
  }
 ],
 "metadata": {
  "kernelspec": {
   "display_name": "Python 3",
   "language": "python",
   "name": "python3"
  },
  "language_info": {
   "codemirror_mode": {
    "name": "ipython",
    "version": 3
   },
   "file_extension": ".py",
   "mimetype": "text/x-python",
   "name": "python",
   "nbconvert_exporter": "python",
   "pygments_lexer": "ipython3",
   "version": "3.7.6"
  },
  "varInspector": {
   "cols": {
    "lenName": 16,
    "lenType": 16,
    "lenVar": 40
   },
   "kernels_config": {
    "python": {
     "delete_cmd_postfix": "",
     "delete_cmd_prefix": "del ",
     "library": "var_list.py",
     "varRefreshCmd": "print(var_dic_list())"
    },
    "r": {
     "delete_cmd_postfix": ") ",
     "delete_cmd_prefix": "rm(",
     "library": "var_list.r",
     "varRefreshCmd": "cat(var_dic_list()) "
    }
   },
   "types_to_exclude": [
    "module",
    "function",
    "builtin_function_or_method",
    "instance",
    "_Feature"
   ],
   "window_display": false
  }
 },
 "nbformat": 4,
 "nbformat_minor": 4
}
