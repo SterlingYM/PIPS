{
 "cells": [
  {
   "cell_type": "markdown",
   "metadata": {},
   "source": [
    "# PIPS 0.3.0 development plan"
   ]
  },
  {
   "cell_type": "markdown",
   "metadata": {
    "heading_collapsed": true
   },
   "source": [
    "# (0) Planning"
   ]
  },
  {
   "cell_type": "markdown",
   "metadata": {
    "heading_collapsed": true,
    "hidden": true
   },
   "source": [
    "## Goals: \n",
    "\n",
    "- clean up PIPS code\n",
    "- add new features\n",
    "- remove redundant functions\n",
    "- add flexibility (function models, etc.)"
   ]
  },
  {
   "cell_type": "markdown",
   "metadata": {
    "hidden": true
   },
   "source": [
    "## Todo:\n",
    "\n",
    "(last updated: Dec28)\n",
    "- redesign the structure of PIPS (classes, independent functions, etc.)\n",
    "- test new functions\n",
    "- add documentations\n",
    "- add test code/environments"
   ]
  },
  {
   "cell_type": "markdown",
   "metadata": {
    "heading_collapsed": true
   },
   "source": [
    "# (1) New PIPS structure\n",
    "\n",
    "concept:\n",
    "- easy to use (minimum operations can be done without calling/importing many extra classes/functions)\n",
    "- separated classes: individual analysis and statistical analysis\n",
    "- pre-implemented models: include as many models as possible"
   ]
  },
  {
   "cell_type": "code",
   "execution_count": null,
   "metadata": {},
   "outputs": [],
   "source": [
    "'''\n",
    "-----------\n",
    "PIPS 0.3.0\n",
    "---------------------------------------------\n",
    "Developers: Y. Murakami, A. Hoffman, J.Sunseri, A. Savel\n",
    "Contact: Yukei Murakami (sterling.astro@berkeley.edu)\n",
    "License: TBD\n",
    "---------------------------------------------\n",
    "Processes photometric data for variable stars.\n",
    "---------------------------------------------\n",
    "\n",
    "Classes:\n",
    "    photdata  --- data container for individual objects and analysis tools\n",
    "    visualize --- visualization tools for photdata and analysis results\n",
    "    StellarModels --- various stellar property relationship models (e.g. period-luminosity)\n",
    "\n",
    "Independent Functions:\n",
    "    get_bestfit_Fourier(x,y,yerr,period,return_yfit=True,return_params=False)\n",
    "    get_bestfit_GM(x,y,yerr,period,return_yfit=True,return_params=False)\n",
    "    get_chi2_Fourier(x,y,yerr,period,Nterms=4)\n",
    "    get_chi2ref(x,y,yerr)\n",
    "    Fourier(self,period,params)\n",
    "    OC(photdata_obj,)\n",
    "'''\n"
   ]
  },
  {
   "cell_type": "markdown",
   "metadata": {
    "heading_collapsed": true,
    "hidden": true
   },
   "source": [
    "## ```photdata``` class"
   ]
  },
  {
   "cell_type": "code",
   "execution_count": null,
   "metadata": {},
   "outputs": [],
   "source": [
    "class photdata:\n",
    "    '''\n",
    "    An object that contains photometric data and analysis results.\n",
    "    \n",
    "    variables:\n",
    "        x(float list): time data\n",
    "        y(float list): magnitude or flux data\n",
    "        yerr(float list): error or uncertainty in each y-data\n",
    "        period(float): detected period of the object. None by default.\n",
    "        period_err(float): estimated uncertainty in detected period\n",
    "        amplitude(float): peak-to-peak ydata range (not best-fit function)\n",
    "        amplitude_err(float): quadrature of yerr for y.max() and y.min()\n",
    "        label(str): label for the photdata object\n",
    "        epoch(float): time of maxima, estimated from the datapoint nearest to a maximum\n",
    "        meanmag: mean magnitude (assuming y-value is in mag)\n",
    "        p0,p1,p2,...,pN\n",
    "        A0,A1,A2,...,AN\n",
    "        \n",
    "        \n",
    "    functions (data preparation):\n",
    "        __init__(self,data,label='')\n",
    "        \n",
    "    functions (utilities):\n",
    "        cut(self,xmin=None,xmax=None,ymin=None,ymax=None,yerr_min=None,yerr_max=None)\n",
    "        reset_cuts()\n",
    "        \n",
    "    functions (data processing):\n",
    "        periodogram(p_min,p_max,N,method,xdata=None,ydata=None,yerr_data=None,plot=False)\n",
    "        get_period()\n",
    "        get_period_multi(N,FAR_max=1e-3)\n",
    "        amplitude_spectrum(p_min,p_max,N,method,plot=False)\n",
    "        get_bestfit(N,model='Fourier',period=None,plot=True,return_curve=False,\n",
    "                    return_params=False)\n",
    "        get_meanmag()\n",
    "        classify()\n",
    "    '''"
   ]
  },
  {
   "source": [
    "## ```StellarModels``` class"
   ],
   "cell_type": "markdown",
   "metadata": {}
  },
  {
   "cell_type": "code",
   "execution_count": null,
   "metadata": {},
   "outputs": [],
   "source": [
    "class StellarModels:\n",
    "    '''\n",
    "    A supplemental class that provides various stellar property relationships.\n",
    "    \n",
    "    (each model is a sub-class that contains unique method functions)\n",
    "    e.g.\n",
    "    ~~~~\n",
    "        >>> from PIPS import photdata, StellarModels\n",
    "        >>> star = photdata()\n",
    "        >>> model = StellarModels.Hoffman20()\n",
    "        >>> star_updated = model.calc_Teff(star)\n",
    "        >>> print(f'{star_updated.Teff:.3e}')\n",
    "        7.580e3\n",
    "    ~~~~\n",
    "\n",
    "    subclasses and method functions for each of them:\n",
    "        Hoffman20 # <-- this is an example: author of the paper + year is the standard\n",
    "            calc_color() # <-- This is an example: names don't have to be 'calc_xxxx()'\n",
    "            calc_Teff()\n",
    "            calc_luminosity()\n",
    "        Murakami21\n",
    "            calc_Teff()\n",
    "            calc_mass()\n",
    "            calc_xxx()\n",
    "        Sunseri22\n",
    "    '''"
   ]
  },
  {
   "cell_type": "markdown",
   "metadata": {
    "heading_collapsed": true,
    "hidden": true
   },
   "source": [
    "## ```visualize``` class"
   ]
  },
  {
   "cell_type": "code",
   "execution_count": null,
   "metadata": {},
   "outputs": [],
   "source": [
    "class visualize:\n",
    "    '''\n",
    "    visualizes.\n",
    "\n",
    "    variables:\n",
    "        \n",
    "    functions:\n",
    "        to_pandas(photdata_array)\n",
    "        plot_scatter(df,xcol,ycol,args=None)\n",
    "        plot_periodogram(photdata_array)\n",
    "        plot_amplitude_spectrum(df)\n",
    "        plot_OC(df)\n",
    "    '''\n",
    "    \n"
   ]
  },
  {
   "cell_type": "code",
   "execution_count": null,
   "metadata": {
    "hidden": true
   },
   "outputs": [],
   "source": []
  }
 ],
 "metadata": {
  "kernelspec": {
   "display_name": "Python 3",
   "language": "python",
   "name": "python3"
  },
  "language_info": {
   "codemirror_mode": {
    "name": "ipython",
    "version": 3
   },
   "file_extension": ".py",
   "mimetype": "text/x-python",
   "name": "python",
   "nbconvert_exporter": "python",
   "pygments_lexer": "ipython3",
   "version": "3.7.6"
  },
  "varInspector": {
   "cols": {
    "lenName": 16,
    "lenType": 16,
    "lenVar": 40
   },
   "kernels_config": {
    "python": {
     "delete_cmd_postfix": "",
     "delete_cmd_prefix": "del ",
     "library": "var_list.py",
     "varRefreshCmd": "print(var_dic_list())"
    },
    "r": {
     "delete_cmd_postfix": ") ",
     "delete_cmd_prefix": "rm(",
     "library": "var_list.r",
     "varRefreshCmd": "cat(var_dic_list()) "
    }
   },
   "types_to_exclude": [
    "module",
    "function",
    "builtin_function_or_method",
    "instance",
    "_Feature"
   ],
   "window_display": false
  }
 },
 "nbformat": 4,
 "nbformat_minor": 4
}