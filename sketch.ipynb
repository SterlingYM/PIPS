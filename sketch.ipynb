{
 "cells": [
  {
   "cell_type": "markdown",
   "metadata": {},
   "source": [
    "# PIPS 0.3.0 development plan"
   ]
  },
  {
   "cell_type": "markdown",
   "metadata": {
    "heading_collapsed": true
   },
   "source": [
    "# (0) Planning"
   ]
  },
  {
   "cell_type": "markdown",
   "metadata": {
    "heading_collapsed": true,
    "hidden": true
   },
   "source": [
    "## Goals: \n",
    "\n",
    "- clean up PIPS code\n",
    "- add new features\n",
    "- remove redundant functions\n",
    "- add flexibility (function models, etc.)"
   ]
  },
  {
   "cell_type": "markdown",
   "metadata": {
    "hidden": true
   },
   "source": [
    "## Todo:\n",
    "\n",
    "(last updated: Dec28)\n",
    "- redesign the structure of PIPS (classes, independent functions, etc.)\n",
    "- test new functions\n",
    "- add documentations\n",
    "- add test code/environments"
   ]
  },
  {
   "cell_type": "markdown",
   "metadata": {
    "heading_collapsed": true
   },
   "source": [
    "# (1) New PIPS structure\n",
    "\n",
    "concept:\n",
    "- easy to use (minimum operations can be done without calling/importing many extra classes/functions)\n",
    "- separated classes: individual analysis and statistical analysis\n",
    "- pre-implemented models: include as many models as possible"
   ]
  },
  {
   "cell_type": "markdown",
   "metadata": {
    "heading_collapsed": true,
    "hidden": true
   },
   "source": [
    "## ```photdata``` class"
   ]
  },
  {
   "cell_type": "markdown",
   "metadata": {
    "hidden": true
   },
   "source": [
    "takes in raw photometric data.\n",
    "\n",
    "- period detection\n",
    "    - main period detection\n",
    "    - secondary period detection\n",
    "    - false alarm rate estimation\n",
    "    - uncertainty estimation\n",
    "    - light curve fitting\n",
    "- periodogram calculation/output\n",
    "- light curve fitting\n",
    "- outlier data detection ('warning' function?)\n",
    "- stellar parameter estimations (model-dependent)"
   ]
  },
  {
   "cell_type": "markdown",
   "metadata": {
    "heading_collapsed": true,
    "hidden": true
   },
   "source": [
    "## ```stats``` class (name TBD)"
   ]
  },
  {
   "cell_type": "markdown",
   "metadata": {
    "hidden": true
   },
   "source": [
    "takes in a list of ```photdata``` objects\n",
    "\n",
    "- to_pandas ('summary' table)\n",
    "- automatic diagram creation\n",
    "    - period-color diagram\n",
    "    - period-amplitude diagram\n",
    "    - period-luminosity diagram\n",
    "    - color-magnitude diagram (HR diagram)\n",
    "- long-term analysis"
   ]
  },
  {
   "cell_type": "markdown",
   "metadata": {
    "hidden": true
   },
   "source": [
    "## (1-3) independent functions"
   ]
  },
  {
   "cell_type": "markdown",
   "metadata": {
    "hidden": true
   },
   "source": [
    "to be discussed"
   ]
  },
  {
   "cell_type": "code",
   "execution_count": null,
   "metadata": {
    "hidden": true
   },
   "outputs": [],
   "source": []
  }
 ],
 "metadata": {
  "kernelspec": {
   "display_name": "Python 3",
   "language": "python",
   "name": "python3"
  },
  "language_info": {
   "codemirror_mode": {
    "name": "ipython",
    "version": 3
   },
   "file_extension": ".py",
   "mimetype": "text/x-python",
   "name": "python",
   "nbconvert_exporter": "python",
   "pygments_lexer": "ipython3",
   "version": "3.7.7"
  },
  "varInspector": {
   "cols": {
    "lenName": 16,
    "lenType": 16,
    "lenVar": 40
   },
   "kernels_config": {
    "python": {
     "delete_cmd_postfix": "",
     "delete_cmd_prefix": "del ",
     "library": "var_list.py",
     "varRefreshCmd": "print(var_dic_list())"
    },
    "r": {
     "delete_cmd_postfix": ") ",
     "delete_cmd_prefix": "rm(",
     "library": "var_list.r",
     "varRefreshCmd": "cat(var_dic_list()) "
    }
   },
   "types_to_exclude": [
    "module",
    "function",
    "builtin_function_or_method",
    "instance",
    "_Feature"
   ],
   "window_display": false
  }
 },
 "nbformat": 4,
 "nbformat_minor": 4
}
